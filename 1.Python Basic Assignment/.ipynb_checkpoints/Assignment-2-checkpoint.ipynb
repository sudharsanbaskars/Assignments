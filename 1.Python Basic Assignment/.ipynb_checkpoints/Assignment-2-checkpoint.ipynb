{
 "cells": [
  {
   "cell_type": "markdown",
   "metadata": {},
   "source": [
    "# Assignment-2"
   ]
  },
  {
   "cell_type": "markdown",
   "metadata": {},
   "source": [
    "#### 1.What are the two values of the Boolean data type? How do you write them?\n",
    "#### solution:\n",
    "- The two value of Boolean data type are true(1) and false(0).\n",
    "- They can be written as True and False"
   ]
  },
  {
   "cell_type": "markdown",
   "metadata": {},
   "source": [
    "#### 2. What are the three different types of Boolean operators?\n",
    "#### solution:\n",
    "- The 3 different types of boolean operators are Logical AND, OR and NOT\n",
    "- They can be written as 'and', 'or' and 'not' in python"
   ]
  },
  {
   "cell_type": "markdown",
   "metadata": {},
   "source": [
    "#### 3. Make a list of each Boolean operator's truth tables (i.e. every possible combination of Boolean values for the operator and what it evaluate.\n",
    "#### solution:\n",
    "#### => and Operator:\n",
    "1. When the two inputs are True(1) and True(1), the output is True(1)\n",
    "2. When the two inputs are True(1) and False(0), the output is False(0) and vice versa\n",
    "2. When the two inputs are False(0) and False(0), the output is False(0)\n",
    "\n",
    "#### => or Operator:\n",
    "1. When the two inputs are True(1) and True(1), the output is True(1)\n",
    "2. When the two inputs are True(1) and False(0) and vice versa, the output is True(1)\n",
    "2. When the two inputs are False(0) and False(0), the output is False(0)\n",
    "\n",
    "#### => not operator:\n",
    "It Negates the input value which we have given\n",
    "1. when the input is True(1), the output is False(0)\n",
    "2. when the input is False(0), the output is True(1)"
   ]
  },
  {
   "cell_type": "markdown",
   "metadata": {},
   "source": [
    "#### 4. What are the values of the following expressions?\n",
    "- (5 > 4) and (3 == 5)\n",
    "- not (5 > 4)\n",
    "- (5 > 4) or (3 == 5)\n",
    "- not ((5 &gt; 4) or (3 == 5))\n",
    "- (True and True) and (True == False)\n",
    "- (not False) or (not True)\n",
    "#### solution:\n",
    "- False\n",
    "- False\n",
    "- True\n",
    "- False\n",
    "- False\n",
    "- True"
   ]
  },
  {
   "cell_type": "markdown",
   "metadata": {},
   "source": [
    "#### 5. What are the six comparison operators?\n",
    "#### solution:\n",
    "- greater than : >\n",
    "- lesser than : <\n",
    "- greater than and equal to : >=\n",
    "- lesser than and equal to : <=\n",
    "- Equal to : ==\n",
    "- Not equal to : !="
   ]
  },
  {
   "cell_type": "markdown",
   "metadata": {},
   "source": [
    "#### 6.How do you tell the difference between the equal to and assignment operators?Describe a condition and when you would use one.\n",
    "#### solution:\n",
    "- Assignment operator is \"=\" and equal to operator is \"==\".The Difference between them is that assignment operator(=) assigns the variable to a value, whereas the equal to operator(==) checks whether the expression on the left is equal to the expression on the right and returns True if they are equal otherwise it returns False.\n",
    "- Examples:\n",
    "1. age = 10  # Here we are assigning the variable 'age' to the value '10' using assignment opreator.\n",
    "2. (3>2) == (5<6)  # Here we checking whether the two expressions are equal using equal to operator(==). "
   ]
  },
  {
   "cell_type": "code",
   "execution_count": 8,
   "metadata": {},
   "outputs": [],
   "source": [
    "age = 10 # Here we are assigning the variable 'age' to the value '10' using assignment opreator."
   ]
  },
  {
   "cell_type": "code",
   "execution_count": 7,
   "metadata": {},
   "outputs": [
    {
     "data": {
      "text/plain": [
       "True"
      ]
     },
     "execution_count": 7,
     "metadata": {},
     "output_type": "execute_result"
    }
   ],
   "source": [
    "(3>2) == (5<6) # Here we checking whether the two expressions are equal using equal to operator(==). "
   ]
  },
  {
   "cell_type": "markdown",
   "metadata": {},
   "source": [
    "#### 7. Identify the three blocks in this code:\n",
    "- spam = 0\n",
    "- if spam == 10:\n",
    "- print(eggs)\n",
    "- if spam > 5:\n",
    "- print(bacon;)\n",
    "- else:\n",
    "- print(ham)\n",
    "- print(spam)\n",
    "- print(spam)\n",
    "#### solution:\n",
    "The three blocks in this code are\n",
    "1. print(eggs)\n",
    "2. print(bacon)\n",
    "3. print(ham),\n",
    "   print(spam),\n",
    "   print(spam)"
   ]
  },
  {
   "cell_type": "markdown",
   "metadata": {},
   "source": [
    "#### 8. Write code that prints Hello if 1 is stored in spam, prints Howdy if 2 is stored in spam, and prints Greetings! if anything else is stored in spam.\n"
   ]
  },
  {
   "cell_type": "code",
   "execution_count": 1,
   "metadata": {},
   "outputs": [
    {
     "name": "stdout",
     "output_type": "stream",
     "text": [
      "1\n",
      "Greetings!\n"
     ]
    }
   ],
   "source": [
    "# solution\n",
    "spam = input()\n",
    "if spam == 1:\n",
    "    print(\"Hello\")\n",
    "elif spam == 2:\n",
    "    print(\"Howdy\")\n",
    "else:\n",
    "    print(\"Greetings!\")"
   ]
  },
  {
   "cell_type": "markdown",
   "metadata": {},
   "source": [
    "#### 9. If your programme is stuck in an endless loop, what keys you’ll press?\n",
    "#### solution:\n",
    "- ctrl + c"
   ]
  },
  {
   "cell_type": "markdown",
   "metadata": {},
   "source": [
    "#### 10. How can you tell the difference between break and continue?\n",
    "#### solution:\n",
    "- break function breaks the entire loop.\n",
    "- Whereas the continue statement will move the execution to the start of the loop."
   ]
  },
  {
   "cell_type": "markdown",
   "metadata": {},
   "source": [
    "#### 11. In a for loop, what is the difference between range(10), range(0, 10), and range(0, 10, 1)?\n",
    "**Solution:** The Differences are as follows:  \n",
    "1. The range(10) call range from 0 to 9 (but not include 10)  \n",
    "2. The range (0,10) explicitly tells the loop to start at 0  \n",
    "3. The range(0,10,1) explicitly tells the loop to increase the variable by 1 on each iteration "
   ]
  },
  {
   "cell_type": "markdown",
   "metadata": {},
   "source": [
    "#### 12. Write a short program that prints the numbers 1 to 10 using for loop. Then write an equivalent program that prints the numbers 1 to 10 using a while loop."
   ]
  },
  {
   "cell_type": "code",
   "execution_count": 2,
   "metadata": {},
   "outputs": [
    {
     "name": "stdout",
     "output_type": "stream",
     "text": [
      "---------- Using For Loop ----------\n",
      "1 2 3 4 5 6 7 8 9 10 \n",
      "\n",
      "---------- Using While Loop ----------\n",
      "1 2 3 4 5 6 7 8 9 10 "
     ]
    }
   ],
   "source": [
    "print('-'*10,'Using For Loop','-'*10)\n",
    "for i in range(1,11):\n",
    "    print(i, end=\" \")\n",
    "    \n",
    "print('\\n')\n",
    "print('-'*10,'Using While Loop','-'*10) \n",
    "\n",
    "i=1\n",
    "while i<=10:\n",
    "    print(i, end=\" \")\n",
    "    i+=1"
   ]
  },
  {
   "cell_type": "markdown",
   "metadata": {},
   "source": [
    "13. If you had a function named bacon() inside a module named spam, how would you call it after importing spam?\n",
    "**Solution:** This function can be called with `spam.bacon()`"
   ]
  },
  {
   "cell_type": "markdown",
   "metadata": {},
   "source": [
    "By Sudharsan B"
   ]
  }
 ],
 "metadata": {
  "kernelspec": {
   "display_name": "Python 3",
   "language": "python",
   "name": "python3"
  },
  "language_info": {
   "codemirror_mode": {
    "name": "ipython",
    "version": 3
   },
   "file_extension": ".py",
   "mimetype": "text/x-python",
   "name": "python",
   "nbconvert_exporter": "python",
   "pygments_lexer": "ipython3",
   "version": "3.8.5"
  }
 },
 "nbformat": 4,
 "nbformat_minor": 4
}
