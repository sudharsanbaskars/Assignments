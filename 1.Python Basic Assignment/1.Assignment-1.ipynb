{
 "cells": [
  {
   "cell_type": "markdown",
   "metadata": {},
   "source": [
    "# Assignment-1"
   ]
  },
  {
   "cell_type": "markdown",
   "metadata": {},
   "source": [
    "#### 1. What are the differences between operators and values in the following?\n",
    "*,\n",
    "&#39;hello&#39;,\n",
    "-87.8,\n",
    "-,\n",
    "/,\n",
    "+,\n",
    "6\n",
    "#### solution:\n",
    "- '*' = It is an operator\n",
    "- 'hello' = It is string(value)\n",
    "- -87.8 = It is a value(floating point value)\n",
    "- '-' = It is an operator(subtraction)\n",
    "- '/' = It is an operator(floor division)\n",
    "- '+' = It is an operator(addition)\n",
    "- 6 = It is a value"
   ]
  },
  {
   "cell_type": "markdown",
   "metadata": {},
   "source": [
    "#### 2. What is the difference between string and variable?\n",
    "spam,\n",
    "&#39;spam&#39;\n",
    "#### solution:\n",
    "- spam(variable) = Variable is a place(or container) used to store a value/data\n",
    "- 'spam'(string) = string is a data structure made up of collection of characters which can be stored in a variable"
   ]
  },
  {
   "cell_type": "markdown",
   "metadata": {},
   "source": [
    "#### 3. Describe three different data forms.\n",
    "#### solution:\n",
    "- Integer(eg: 1, 3, 44)\n",
    "- Floating point(eg: 3.1, 44.55)\n",
    "- Boolean(True, False)\n",
    "- string(eg: \"python\")"
   ]
  },
  {
   "cell_type": "markdown",
   "metadata": {},
   "source": [
    "#### 4. What makes up an expression? What are the functions of all expressions?\n",
    "#### solution:\n",
    "- An Expression is made up of operators, values and variables.\n",
    "- The expression is used for evaluating the mathematical operations\n",
    "- Example: a+2b+a*b"
   ]
  },
  {
   "cell_type": "markdown",
   "metadata": {},
   "source": [
    "#### 5. In this chapter, assignment statements such as spam = 10 were added. What&#39;s the difference between a declaration and an expression?\n",
    "#### solution:\n",
    "- spam = 10. In this statement,we are declaring the variable \"spam\" to value 10.\n",
    "- Expression is made upof variables, operators and values.Whereas delcaration is assigning a variable to a value.  "
   ]
  },
  {
   "cell_type": "markdown",
   "metadata": {},
   "source": [
    "#### 6. After running the following code, what does the variable bacon contain?\n",
    "bacon = 22,\n",
    "bacon + 1\n",
    "#### solution:\n",
    "- After running the code, the variable bacon contains 22 only."
   ]
  },
  {
   "cell_type": "code",
   "execution_count": 1,
   "metadata": {},
   "outputs": [
    {
     "name": "stdout",
     "output_type": "stream",
     "text": [
      "22\n"
     ]
    }
   ],
   "source": [
    "bacon = 22\n",
    "bacon + 1\n",
    "print(bacon)"
   ]
  },
  {
   "cell_type": "markdown",
   "metadata": {},
   "source": [
    "#### 7. What should the values of the following two terms be?\n",
    "\n",
    "- 'spam'+ 'spamspam';\n",
    "- 'spam' * 3\n",
    "#### solution:\n",
    "- 'spam'+ 'spamspam' = 'spamspamspam'\n",
    "- 'spam' * 3 = 'spamspamspam'"
   ]
  },
  {
   "cell_type": "markdown",
   "metadata": {},
   "source": [
    "#### 8. Why is it that eggs is a true variable name but 100 is not?\n",
    "#### solution:\n",
    "- 'eggs' is a true variable because is starts with alphabet\n",
    "- Whereas 100 is not a true variable because it starts with number.\n",
    "- Variable should always with a alphabet or underscore. "
   ]
  },
  {
   "cell_type": "markdown",
   "metadata": {},
   "source": [
    "#### 9. Which of the following three functions may be used to convert a value to an integer, a floating-point number, or a string?\n",
    "#### solution:\n",
    "- Incomplete question"
   ]
  },
  {
   "cell_type": "markdown",
   "metadata": {},
   "source": [
    "#### 10. What is the error caused by this expression? What would you do about it?\n",
    "\n",
    "&#39;I have eaten &#39; + 99 + &#39; burritos.&#39;\n",
    "#### solution:\n",
    "- ERROR : can only concatenate str (not \"int\") to str\n",
    "- We can concatenate only strings.But here a integer is given, which caused the error.In order to avoid the error we can use '99' instead of 99 or we can typecast the 99 as str(99)."
   ]
  }
 ],
 "metadata": {
  "kernelspec": {
   "display_name": "Python 3",
   "language": "python",
   "name": "python3"
  },
  "language_info": {
   "codemirror_mode": {
    "name": "ipython",
    "version": 3
   },
   "file_extension": ".py",
   "mimetype": "text/x-python",
   "name": "python",
   "nbconvert_exporter": "python",
   "pygments_lexer": "ipython3",
   "version": "3.8.5"
  }
 },
 "nbformat": 4,
 "nbformat_minor": 4
}
